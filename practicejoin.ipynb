{
 "cells": [
  {
   "cell_type": "code",
   "execution_count": 35,
   "metadata": {},
   "outputs": [
    {
     "data": {
      "text/plain": [
       "<sqlite3.Cursor at 0x1733a031040>"
      ]
     },
     "execution_count": 35,
     "metadata": {},
     "output_type": "execute_result"
    }
   ],
   "source": [
    "# DB-CREATE-TABLE\n",
    "import sqlite3\n",
    "\n",
    "connie = sqlite3.connect('test.db')\n",
    "c = connie.cursor()\n",
    "\n",
    "c.execute(\"\"\"\n",
    "\n",
    "CREATE TABLE IF NOT EXISTS students_sust(\n",
    "    id INTEGER PRIMARY KEY AUTOINCREMENT,\n",
    "    surname TEXT,\n",
    "    firstname TEXT\n",
    "\n",
    ")\n",
    "\n",
    "\"\"\")\n",
    "\n",
    "c.execute(\"\"\"\n",
    "CREATE TABLE IF NOT EXISTS subjects(\n",
    "    id INTEGER PRIMARY KEY AUTOINCREMENT,\n",
    "    subject_name TEXT,\n",
    "    teacher TEXT\n",
    ")\n",
    "\n",
    "\n",
    "\"\"\")\n",
    "\n",
    "c.execute(\"\"\"\n",
    "CREATE TABLE IF NOT EXISTS results(\n",
    "    student_id INTEGER,\n",
    "    subject_id INTEGER,\n",
    "    result TEXT\n",
    ")\n",
    "\"\"\")\n",
    "\n",
    "# connie.commit()\n",
    "# connie.close()"
   ]
  },
  {
   "cell_type": "code",
   "execution_count": 36,
   "metadata": {},
   "outputs": [],
   "source": [
    "# #population\n",
    "\n",
    "# import sqlite3\n",
    "\n",
    "# connie = sqlite3.connect('test.db')\n",
    "# c = connie.cursor()\n",
    "\n",
    "# c.execute(\"\"\"\n",
    "\n",
    "# INSERT INTO students_sust(surname,firstname) VALUES\n",
    "# ('Potter', 'Harry'),\n",
    "# ('BAdhon','rakibul'),\n",
    "# ('Asif','Tuhin'),\n",
    "# ('Ta','Priam'),\n",
    "# ('Habibullah','Masum'),\n",
    "# ('Sourav','Saha')\n",
    "# \"\"\")\n",
    "# c.execute(\"\"\"\n",
    "# INSERT INTO subjects(subject_name,teacher) VALUES\n",
    "# ('English','Mr shakespar'),\n",
    "# ('Mathematics','Kamrul'),\n",
    "# ('Music','Jhonson'),\n",
    "# ('Ancient History','Manik mia'),\n",
    "# ('Chemistry','Khander rifat'),\n",
    "# ('Bangla','Ashraful alam'),\n",
    "# ('Physics','Jasim Kabir'),\n",
    "# ('Literature','Zk Sumon'),\n",
    "# ('vugol','Obhi sheikh')\n",
    "# \"\"\")\n",
    "# c.execute(\"\"\"\n",
    "# INSERT INTO results (student_id,subject_id,result) VALUES\n",
    "# ('1','1','A'),\n",
    "# ('1','2','B'),\n",
    "# ('1','3','B'),\n",
    "# ('1','5','B'),\n",
    "# ('2','4','B'),\n",
    "# ('2','8','C'),\n",
    "# ('2','9','B'),\n",
    "# ('3','1','A'),\n",
    "# ('3','2','A'),\n",
    "# ('3','4','A'),\n",
    "# ('3','8','A'),\n",
    "# ('3','9','A'),\n",
    "# ('4','6','C'),\n",
    "# ('5','6','B'),\n",
    "# ('5','7','B'),\n",
    "# ('6','8','C'),\n",
    "# ('6','1','D'),\n",
    "# \"\"\")\n",
    "\n",
    "# connie.commit()\n",
    "# connie.close()"
   ]
  },
  {
   "cell_type": "code",
   "execution_count": 39,
   "metadata": {},
   "outputs": [
    {
     "name": "stdout",
     "output_type": "stream",
     "text": [
      "[]\n"
     ]
    }
   ],
   "source": [
    "c.execute(\"SELECT * FROM students_sust\")\n",
    "\n",
    "print(c.fetchall())"
   ]
  },
  {
   "cell_type": "code",
   "execution_count": null,
   "metadata": {},
   "outputs": [],
   "source": [
    "#joinn\n",
    "\n",
    "# c.execute(\"\"\"\n",
    "# SELECT surname,firstname,result,results.subject_id FROM students_sust\n",
    "# INNER JOIN results ON results.student_id = students.id\n",
    "# WHERE surname = 'Asif' ba WHERE subject_id=1\n",
    "# \"\"\")\n",
    "\n",
    "c.execute(\"\"\"\n",
    "SELECT surname,firstname,results.result,results.subject_id,subjects.subject_name FROM students_sust\n",
    "INNER JOIN results ON results.student_id = students.id\n",
    "INNER JOIN subjects ON subjects.id = results.subject_id\n",
    "ORDER BY surname\n",
    "\"\"\")\n",
    "\n",
    "\n",
    "output = c.fetchall()\n",
    "\n",
    "for item in output:\n",
    "    print(item)\n",
    "\n",
    "# print(c.fetchall())"
   ]
  }
 ],
 "metadata": {
  "interpreter": {
   "hash": "aecd030d4c8316a52bf122072e28f84bcc79844c2684e041fef2e3f1d9f59078"
  },
  "kernelspec": {
   "display_name": "Python 3.10.0 64-bit",
   "language": "python",
   "name": "python3"
  },
  "language_info": {
   "codemirror_mode": {
    "name": "ipython",
    "version": 3
   },
   "file_extension": ".py",
   "mimetype": "text/x-python",
   "name": "python",
   "nbconvert_exporter": "python",
   "pygments_lexer": "ipython3",
   "version": "3.10.0"
  },
  "orig_nbformat": 4
 },
 "nbformat": 4,
 "nbformat_minor": 2
}
