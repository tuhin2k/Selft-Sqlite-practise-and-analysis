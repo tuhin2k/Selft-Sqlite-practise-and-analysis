{
 "cells": [
  {
   "cell_type": "code",
   "execution_count": 1,
   "metadata": {},
   "outputs": [],
   "source": [
    "import sqlite3"
   ]
  },
  {
   "cell_type": "code",
   "execution_count": 2,
   "metadata": {},
   "outputs": [],
   "source": [
    "connection = sqlite3.connect(\"test.db\")\n",
    "cursor = connection.cursor()"
   ]
  },
  {
   "cell_type": "code",
   "execution_count": 3,
   "metadata": {},
   "outputs": [],
   "source": [
    "def read_query(query, cursor):\n",
    "   cursor.execute(query)\n",
    "   result = cursor.fetchall()\n",
    "   attr_arr = cursor.description\n",
    "   attr = []\n",
    "   for val in attr_arr:\n",
    "       attr.append(val[0])\n",
    "   json_res = []\n",
    "   for user in result:\n",
    "       obj = {}\n",
    "       for i in range(len(attr)):\n",
    "           obj[attr[i]] = user[i]\n",
    "       json_res.append(obj)\n",
    "   return json_res\n",
    "\n"
   ]
  },
  {
   "cell_type": "code",
   "execution_count": 4,
   "metadata": {},
   "outputs": [
    {
     "data": {
      "text/plain": [
       "[{'regi': 2017331101, 'marks': 80.0}, {'regi': 2017331029, 'marks': 76.0}]"
      ]
     },
     "execution_count": 4,
     "metadata": {},
     "output_type": "execute_result"
    }
   ],
   "source": [
    "read_query(\"select * from students\", cursor)"
   ]
  },
  {
   "cell_type": "code",
   "execution_count": 5,
   "metadata": {},
   "outputs": [],
   "source": [
    "# cursor.execute(\"\"\"\n",
    "# create table students3(\n",
    "#     regi int PRIMARY KEY,\n",
    "#     marks float default 0.0\n",
    "# );\n",
    "# \"\"\")"
   ]
  }
 ],
 "metadata": {
  "interpreter": {
   "hash": "aecd030d4c8316a52bf122072e28f84bcc79844c2684e041fef2e3f1d9f59078"
  },
  "kernelspec": {
   "display_name": "Python 3.10.0 64-bit",
   "language": "python",
   "name": "python3"
  },
  "language_info": {
   "codemirror_mode": {
    "name": "ipython",
    "version": 3
   },
   "file_extension": ".py",
   "mimetype": "text/x-python",
   "name": "python",
   "nbconvert_exporter": "python",
   "pygments_lexer": "ipython3",
   "version": "3.10.0"
  },
  "orig_nbformat": 4
 },
 "nbformat": 4,
 "nbformat_minor": 2
}
