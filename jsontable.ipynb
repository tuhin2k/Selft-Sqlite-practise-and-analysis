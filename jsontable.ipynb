{
 "cells": [
  {
   "cell_type": "code",
   "execution_count": 10,
   "metadata": {},
   "outputs": [],
   "source": [
    "import pandas as pd\n",
    "import json"
   ]
  },
  {
   "cell_type": "code",
   "execution_count": 11,
   "metadata": {},
   "outputs": [],
   "source": [
    "# open json\n",
    "with open(\"sample4.json\") as f:\n",
    "    data = json.load(f)"
   ]
  },
  {
   "cell_type": "code",
   "execution_count": 12,
   "metadata": {},
   "outputs": [
    {
     "data": {
      "text/plain": [
       "[{'firstName': 'Joe',\n",
       "  'lastName': 'Jackson',\n",
       "  'gender': 'male',\n",
       "  'age': 28,\n",
       "  'number': '7349282382'},\n",
       " {'firstName': 'James',\n",
       "  'lastName': 'Smith',\n",
       "  'gender': 'male',\n",
       "  'age': 32,\n",
       "  'number': '5678568567'},\n",
       " {'firstName': 'Emily',\n",
       "  'lastName': 'Jones',\n",
       "  'gender': 'female',\n",
       "  'age': 24,\n",
       "  'number': '456754675'}]"
      ]
     },
     "execution_count": 12,
     "metadata": {},
     "output_type": "execute_result"
    }
   ],
   "source": [
    "data"
   ]
  },
  {
   "cell_type": "code",
   "execution_count": 13,
   "metadata": {},
   "outputs": [],
   "source": [
    "df = pd.DataFrame(data)"
   ]
  },
  {
   "cell_type": "code",
   "execution_count": 14,
   "metadata": {},
   "outputs": [
    {
     "data": {
      "text/html": [
       "<div>\n",
       "<style scoped>\n",
       "    .dataframe tbody tr th:only-of-type {\n",
       "        vertical-align: middle;\n",
       "    }\n",
       "\n",
       "    .dataframe tbody tr th {\n",
       "        vertical-align: top;\n",
       "    }\n",
       "\n",
       "    .dataframe thead th {\n",
       "        text-align: right;\n",
       "    }\n",
       "</style>\n",
       "<table border=\"1\" class=\"dataframe\">\n",
       "  <thead>\n",
       "    <tr style=\"text-align: right;\">\n",
       "      <th></th>\n",
       "      <th>firstName</th>\n",
       "      <th>lastName</th>\n",
       "      <th>gender</th>\n",
       "      <th>age</th>\n",
       "      <th>number</th>\n",
       "    </tr>\n",
       "  </thead>\n",
       "  <tbody>\n",
       "    <tr>\n",
       "      <th>0</th>\n",
       "      <td>Joe</td>\n",
       "      <td>Jackson</td>\n",
       "      <td>male</td>\n",
       "      <td>28</td>\n",
       "      <td>7349282382</td>\n",
       "    </tr>\n",
       "    <tr>\n",
       "      <th>1</th>\n",
       "      <td>James</td>\n",
       "      <td>Smith</td>\n",
       "      <td>male</td>\n",
       "      <td>32</td>\n",
       "      <td>5678568567</td>\n",
       "    </tr>\n",
       "    <tr>\n",
       "      <th>2</th>\n",
       "      <td>Emily</td>\n",
       "      <td>Jones</td>\n",
       "      <td>female</td>\n",
       "      <td>24</td>\n",
       "      <td>456754675</td>\n",
       "    </tr>\n",
       "  </tbody>\n",
       "</table>\n",
       "</div>"
      ],
      "text/plain": [
       "  firstName lastName  gender  age      number\n",
       "0       Joe  Jackson    male   28  7349282382\n",
       "1     James    Smith    male   32  5678568567\n",
       "2     Emily    Jones  female   24   456754675"
      ]
     },
     "execution_count": 14,
     "metadata": {},
     "output_type": "execute_result"
    }
   ],
   "source": [
    "df.head()"
   ]
  },
  {
   "cell_type": "code",
   "execution_count": 15,
   "metadata": {},
   "outputs": [
    {
     "data": {
      "text/plain": [
       "Index(['firstName', 'lastName', 'gender', 'age', 'number'], dtype='object')"
      ]
     },
     "execution_count": 15,
     "metadata": {},
     "output_type": "execute_result"
    }
   ],
   "source": [
    "df.columns"
   ]
  },
  {
   "cell_type": "code",
   "execution_count": 16,
   "metadata": {},
   "outputs": [],
   "source": [
    "#sql connection\n",
    "import sqlite3\n",
    "conn = sqlite3.connect(\"test.db\")\n",
    "c= conn.cursor()\n"
   ]
  },
  {
   "cell_type": "code",
   "execution_count": 17,
   "metadata": {},
   "outputs": [],
   "source": [
    "# df.to_sql(\"jsntable\",conn)"
   ]
  },
  {
   "cell_type": "code",
   "execution_count": 18,
   "metadata": {},
   "outputs": [
    {
     "name": "stdout",
     "output_type": "stream",
     "text": [
      "[('Joe', 'Jackson', 'male', 28, '7349282382'), ('James', 'Smith', 'male', 32, '5678568567'), ('Emily', 'Jones', 'female', 24, '456754675')]\n",
      "('Joe', 'Jackson', 'male', 28, '7349282382')\n",
      "('James', 'Smith', 'male', 32, '5678568567')\n",
      "('Emily', 'Jones', 'female', 24, '456754675')\n",
      "3\n",
      "3\n",
      "[['Joe', 'Jackson', 'male', 28, '7349282382'], ['James', 'Smith', 'male', 32, '5678568567'], ['Emily', 'Jones', 'female', 24, '456754675']]\n",
      "| firstName   | lastName   | gender   |   age |     number |\n",
      "|-------------+------------+----------+-------+------------|\n",
      "| Joe         | Jackson    | male     |    28 | 7349282382 |\n",
      "| James       | Smith      | male     |    32 | 5678568567 |\n",
      "| Emily       | Jones      | female   |    24 |  456754675 |\n"
     ]
    }
   ],
   "source": [
    "from tabulate import tabulate\n",
    "c.execute(\"\"\"\n",
    "select firstName,lastName,gender,age,number from jsntable;\n",
    "\n",
    "\"\"\")\n",
    "\n",
    "# print(c.fetchall())\n",
    "# print(type(c.fetchall()))\n",
    "# li=[]\n",
    "# li=c.fetchall()\n",
    "# print(type(li))\n",
    "# # print(li)\n",
    "\n",
    "# # print(len(li))\n",
    "\n",
    "# for i,j in enumerate(li):\n",
    "#     li[i]=list(li[i])\n",
    "\n",
    "# print(li)\n",
    "\n",
    "output =  c.fetchall()\n",
    "\n",
    "print(output)\n",
    "\n",
    "for item in output:\n",
    "    print(item)\n",
    "\n",
    "print(len(output))\n",
    "li=[]\n",
    "# i=0\n",
    "for i,j in enumerate(output):\n",
    "    # li[i]=list(output[i])\n",
    "    li.append(list(j))\n",
    "\n",
    "print(len(li))\n",
    "print(li)\n",
    "print(tabulate(li, headers=[\"firstName\", \"lastName\", \"gender\",\"age\",\"number\",\"index1\"],tablefmt='orgtbl'))\n",
    "# print(tabulate([['Alice', 24], ['Bob', 19]], headers=['Name', 'Age']))\n",
    "# conn.commit()\n",
    "# conn.close()"
   ]
  }
 ],
 "metadata": {
  "interpreter": {
   "hash": "aecd030d4c8316a52bf122072e28f84bcc79844c2684e041fef2e3f1d9f59078"
  },
  "kernelspec": {
   "display_name": "Python 3.10.0 64-bit",
   "language": "python",
   "name": "python3"
  },
  "language_info": {
   "codemirror_mode": {
    "name": "ipython",
    "version": 3
   },
   "file_extension": ".py",
   "mimetype": "text/x-python",
   "name": "python",
   "nbconvert_exporter": "python",
   "pygments_lexer": "ipython3",
   "version": "3.10.0"
  },
  "orig_nbformat": 4
 },
 "nbformat": 4,
 "nbformat_minor": 2
}
